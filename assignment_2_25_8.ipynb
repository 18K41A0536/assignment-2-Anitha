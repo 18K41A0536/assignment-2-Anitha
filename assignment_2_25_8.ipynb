{
  "nbformat": 4,
  "nbformat_minor": 0,
  "metadata": {
    "colab": {
      "name": "assignment-2-25-8.ipynb",
      "provenance": [],
      "collapsed_sections": [],
      "authorship_tag": "ABX9TyPDMhJE03nWsEbBGA+vjtby",
      "include_colab_link": true
    },
    "kernelspec": {
      "name": "python3",
      "display_name": "Python 3"
    }
  },
  "cells": [
    {
      "cell_type": "markdown",
      "metadata": {
        "id": "view-in-github",
        "colab_type": "text"
      },
      "source": [
        "<a href=\"https://colab.research.google.com/github/18K41A0536/assignment-2-Anitha/blob/master/assignment_2_25_8.ipynb\" target=\"_parent\"><img src=\"https://colab.research.google.com/assets/colab-badge.svg\" alt=\"Open In Colab\"/></a>"
      ]
    },
    {
      "cell_type": "code",
      "metadata": {
        "id": "q_xWG3l3h_-b",
        "colab_type": "code",
        "colab": {
          "base_uri": "https://localhost:8080/",
          "height": 85
        },
        "outputId": "117b500b-b5ea-4549-8898-f65a3a213dc5"
      },
      "source": [
        "x=float(input(\"enter number1\"))\n",
        "y=float(input(\"enter number 2:\"))\n",
        "z=float(input(\"enter number 3:\"))\n",
        "if(x+y>z):\n",
        "  s=(x+y+z)/2\n",
        "  n=(s*(s-x)*(s-y)*(s-z))**0.5\n",
        "  print(\"the area of triangle:\",round(n,3))\n",
        "else:\n",
        "  print(\"the triangle not possible:\")  \n",
        "\n"
      ],
      "execution_count": null,
      "outputs": [
        {
          "output_type": "stream",
          "text": [
            "enter number12\n",
            "enter number 2:3\n",
            "enter number 3:4\n",
            "the area of triangle: 2.905\n"
          ],
          "name": "stdout"
        }
      ]
    },
    {
      "cell_type": "markdown",
      "metadata": {
        "id": "NRmXFWKDnw_p",
        "colab_type": "text"
      },
      "source": [
        "1.given the lengths of three sides of  triangle,calculate the area of the triangle"
      ]
    },
    {
      "cell_type": "markdown",
      "metadata": {
        "id": "9YEWC6rNoZlX",
        "colab_type": "text"
      },
      "source": [
        "2.take a string from end user and check if the value is palindrome or not?"
      ]
    },
    {
      "cell_type": "code",
      "metadata": {
        "id": "k5hZSjLZo5zW",
        "colab_type": "code",
        "colab": {
          "base_uri": "https://localhost:8080/",
          "height": 51
        },
        "outputId": "9d8e2280-bdff-41ca-bbcb-c3b953537bd6"
      },
      "source": [
        "word=input(\"enter a string:\")\n",
        "if word==word[::-1]:\n",
        "  print(\"enter string is palindrome\",word)\n",
        "else:\n",
        "  print(\"not a palindrome\",word)  \n"
      ],
      "execution_count": null,
      "outputs": [
        {
          "output_type": "stream",
          "text": [
            "enter a string:madam\n",
            "enter string is palindrome madam\n"
          ],
          "name": "stdout"
        }
      ]
    },
    {
      "cell_type": "markdown",
      "metadata": {
        "id": "9sglAVtXrKQu",
        "colab_type": "text"
      },
      "source": [
        "3.write a proram that reads a year from the user and display a message\n",
        "indicating whether or not it is a leap year"
      ]
    },
    {
      "cell_type": "code",
      "metadata": {
        "id": "dVBr8VJ0tX0a",
        "colab_type": "code",
        "colab": {
          "base_uri": "https://localhost:8080/",
          "height": 51
        },
        "outputId": "2c7248b3-c29b-40f7-82f4-7aa057df304d"
      },
      "source": [
        "  year=int(input(\"enter a year\"))   \n",
        "  if year%4==0 and year%100!=0 or year%400==0:\n",
        "    print(\"leap year\",year) \n",
        "  else:\n",
        "   print(\"not leap year\")        "
      ],
      "execution_count": null,
      "outputs": [
        {
          "output_type": "stream",
          "text": [
            "enter a year1990\n",
            "not leap year\n"
          ],
          "name": "stdout"
        }
      ]
    },
    {
      "cell_type": "markdown",
      "metadata": {
        "id": "S5sLuSwov_93",
        "colab_type": "text"
      },
      "source": [
        "4.take a string as input and replace spaces \"\" with hyphens\"-\", and return a string"
      ]
    },
    {
      "cell_type": "code",
      "metadata": {
        "id": "5hsOaXlTwID9",
        "colab_type": "code",
        "colab": {
          "base_uri": "https://localhost:8080/",
          "height": 51
        },
        "outputId": "1fc23d07-ebb5-445b-bf74-5bfd731333fc"
      },
      "source": [
        "x=input(\"enter string:\")\n",
        "print(x.replace(' ','-'))\n"
      ],
      "execution_count": null,
      "outputs": [
        {
          "output_type": "stream",
          "text": [
            "enter string:This program converts spaces into hyphen\n",
            "This-program-converts-spaces-into-hyphen\n"
          ],
          "name": "stdout"
        }
      ]
    },
    {
      "cell_type": "markdown",
      "metadata": {
        "id": "8XZbz98dwlu9",
        "colab_type": "text"
      },
      "source": [
        "5.\tUnique Sort problem \n",
        "Take a string as input that accepts a comma separated sequence of words as input and prints the unique words in sorted form (alphanumerically).\n",
        "*Input*: orange, white, red, cyan, green, magenta, cyan, pink, white\n",
        "*Output*: cyan, green, magenta, orange, pink, red, white\n"
      ]
    },
    {
      "cell_type": "code",
      "metadata": {
        "id": "Iy7a5GnWwAbv",
        "colab_type": "code",
        "colab": {
          "base_uri": "https://localhost:8080/",
          "height": 51
        },
        "outputId": "998d3397-49ea-4f59-a3b0-1b26cd9a5b45"
      },
      "source": [
        "l=input(\"enter string\")\n",
        "w=[w for w in l.split(\",\")]\n",
        "print(\",\".join(sorted(list(set(w)))))\n",
        "\n",
        "\n"
      ],
      "execution_count": null,
      "outputs": [
        {
          "output_type": "stream",
          "text": [
            "enter string orange, white, red, cyan, green, magenta, cyan, pink, white\n",
            " cyan, green, magenta, orange, pink, red, white\n"
          ],
          "name": "stdout"
        }
      ]
    },
    {
      "cell_type": "markdown",
      "metadata": {
        "id": "tK6ytiR-xRNS",
        "colab_type": "text"
      },
      "source": [
        "6.\tTax Calculator\n",
        "Ask the user for their monthly salary. Calculate whether they have to pay tax and if so, how much is that amount .Print the result\n",
        " \n"
      ]
    },
    {
      "cell_type": "code",
      "metadata": {
        "id": "TRgMhE7JyFXy",
        "colab_type": "code",
        "colab": {
          "base_uri": "https://localhost:8080/",
          "height": 51
        },
        "outputId": "aaff140a-d0a9-441c-efe0-396d5cfd7b4f"
      },
      "source": [
        "salary=float(input(\"enter your monthly salary\"))\n",
        "if salary<250000:\n",
        "  print(\"there is no need to pay tax\")\n",
        "elif salary>=250001 and salary<=500000:\n",
        "  tax=salary*(5/100)\n",
        "  print(\"your tax amount is:\",tax)\n",
        "  total=salary+tax\n",
        "  print(\"total amount is:\",total)\n",
        "elif salary>=500001 and salary<=750000:\n",
        "  tax=salary*(10/100)\n",
        "  print(\"your tax amount is:\",tax)\n",
        "  total=salary+tax\n",
        "  print(\"total amount is:\",total)\n",
        "elif salary>=750001 and salary<=1000000:\n",
        "  tax=salary*(15/100)\n",
        "  print(\"your tax amount is:\",tax)\n",
        "  total=salary+tax\n",
        "  print(\"total amount is:\",total)\n",
        "elif salary>=1000001 and salary<=1250000:\n",
        "  tax=salary*(20/100)\n",
        "  print(\"your tax amount is:\",tax)\n",
        "  total=salary+tax\n",
        "  print(\"total amount is:\",total)\n",
        "elif salary>=1250001 and salary<=1500000:\n",
        "  tax=salary*(25/100)\n",
        "  print(\"your tax amount is:\",tax)\n",
        "  total=salary+tax\n",
        "  print(\"total amount is:\",total)\n",
        "else:\n",
        "  tax=salary*(30/100)\n",
        "  print(\"your tax amount is:\",tax)\n",
        "  total=salary+tax\n",
        "  print(\"total amount is:\",total)"
      ],
      "execution_count": null,
      "outputs": [
        {
          "output_type": "stream",
          "text": [
            "enter your monthly salary200000\n",
            "there is no need to pay tax\n"
          ],
          "name": "stdout"
        }
      ]
    },
    {
      "cell_type": "markdown",
      "metadata": {
        "id": "37tUj6mdypM4",
        "colab_type": "text"
      },
      "source": [
        "\n",
        "7.\tTake a list of integers as an argument, and converts it into a single integer (return the integer).\n",
        "*Input*: [11, 33, 50]\n",
        "*Output*: 113350\n"
      ]
    },
    {
      "cell_type": "code",
      "metadata": {
        "id": "YJl5Hn2Wy7nF",
        "colab_type": "code",
        "colab": {
          "base_uri": "https://localhost:8080/",
          "height": 34
        },
        "outputId": "db0305e4-18fe-47d7-b06c-374d05e36e25"
      },
      "source": [
        "l=[11,33,50]\n",
        "for i in l:\n",
        "  print(i,end='')"
      ],
      "execution_count": null,
      "outputs": [
        {
          "output_type": "stream",
          "text": [
            "113350"
          ],
          "name": "stdout"
        }
      ]
    },
    {
      "cell_type": "markdown",
      "metadata": {
        "id": "zsze9_6DzH4w",
        "colab_type": "text"
      },
      "source": [
        "\n"
      ]
    },
    {
      "cell_type": "code",
      "metadata": {
        "id": "PaszpOu9zZM1",
        "colab_type": "code",
        "colab": {}
      },
      "source": [
        "8.\tUnits of Time\n",
        "Create a program that reads duration from the user as a number of days, hours, minutes, and seconds. Compute and display the total number of seconds represented by this duration. "
      ],
      "execution_count": null,
      "outputs": []
    },
    {
      "cell_type": "code",
      "metadata": {
        "id": "Myaqyv6Hyz1n",
        "colab_type": "code",
        "colab": {
          "base_uri": "https://localhost:8080/",
          "height": 102
        },
        "outputId": "25ed1449-9807-4c36-9108-e552df1801e7"
      },
      "source": [
        "secperminute=60\n",
        "secperhour=3600\n",
        "secperday=86400\n",
        "days=int(input(\"enter number of days\"))\n",
        "hours=int(input(\"enter hours\"))\n",
        "min=int(input(\"enter min\"))\n",
        "sec=int(input(\"enter  sec\"))\n",
        "total=days*secperday\n",
        "total=total+(hours*secperhour)\n",
        "total=total+(min*secperminute)\n",
        "total=total+sec\n",
        "print(\"total\",\"%d\"%(total))\n",
        "\n",
        "\n",
        "\n",
        "\n"
      ],
      "execution_count": null,
      "outputs": [
        {
          "output_type": "stream",
          "text": [
            "enter number of days5\n",
            "enter hours36\n",
            "enter min24\n",
            "enter  sec15\n",
            "total 563055\n"
          ],
          "name": "stdout"
        }
      ]
    },
    {
      "cell_type": "markdown",
      "metadata": {
        "id": "s8WgyBb92fbM",
        "colab_type": "text"
      },
      "source": [
        "9.\tSort 3 Integers\n",
        "Given three integers (given through user input), sort the numbers using |min| and  |max| functions.\n"
      ]
    },
    {
      "cell_type": "code",
      "metadata": {
        "id": "lBDlCxo62gEX",
        "colab_type": "code",
        "colab": {
          "base_uri": "https://localhost:8080/",
          "height": 85
        },
        "outputId": "6bfead01-45d3-4d87-b0c4-1c126c6da4e7"
      },
      "source": [
        "x = int(input(\"Input first number: \"))\n",
        "y = int(input(\"Input second number: \"))\n",
        "z = int(input(\"Input third number: \"))\n",
        "a1 = min(x, y, z)\n",
        "a3 = max(x, y, z)\n",
        "a2 = (x + y + z) - a1 - a3\n",
        "print(\"Numbers in sorted order:\",a1,a2,a3)"
      ],
      "execution_count": null,
      "outputs": [
        {
          "output_type": "stream",
          "text": [
            "Input first number: 2\n",
            "Input second number: 4\n",
            "Input third number: 8\n",
            "Numbers in sorted order: 2 4 8\n"
          ],
          "name": "stdout"
        }
      ]
    },
    {
      "cell_type": "markdown",
      "metadata": {
        "id": "HLs4QrIr212N",
        "colab_type": "text"
      },
      "source": [
        "10.\tWrite a program that reads a date from the user and computes its immediate successor. The date is the format YYYY-MM-DD. So, 2020-04-15 will have the successor 2020-04-16."
      ]
    },
    {
      "cell_type": "code",
      "metadata": {
        "id": "zSzkQNTS5AYe",
        "colab_type": "code",
        "colab": {
          "base_uri": "https://localhost:8080/",
          "height": 85
        },
        "outputId": "3898c662-7ba5-4056-f0cb-936036936eb3"
      },
      "source": [
        "year = int(input(\"Input a year: \"))\n",
        "if (year % 400 == 0):\n",
        "    leap_year = True\n",
        "elif (year % 100 == 0):\n",
        "    leap_year = False\n",
        "elif (year % 4 == 0):\n",
        "    leap_year = True\n",
        "else:\n",
        "    leap_year = False\n",
        "\n",
        "month = int(input(\"Input a month [1-12]: \"))\n",
        "\n",
        "if month in (1, 3, 5, 7, 8, 10, 12):\n",
        "    month_length = 31\n",
        "elif month == 2:\n",
        "    if leap_year:\n",
        "        month_length = 29\n",
        "    else:\n",
        "        month_length = 28\n",
        "else:\n",
        "    month_length = 30\n",
        "day = int(input(\"Input a day [1-31]: \"))\n",
        "\n",
        "if day < month_length:\n",
        "    day += 1\n",
        "else:\n",
        "    day = 1\n",
        "    if month == 12:\n",
        "        month = 1\n",
        "        year += 1\n",
        "    else:\n",
        "        month += 1\n",
        "print(\"The next date is [yyyy-mm-dd] %d-%d-%d.\" % (year, month, day))\n",
        "\n"
      ],
      "execution_count": null,
      "outputs": [
        {
          "output_type": "stream",
          "text": [
            "Input a year: 2020\n",
            "Input a month [1-12]: 8\n",
            "Input a day [1-31]: 22\n",
            "The next date is [yyyy-mm-dd] 2020-8-23.\n"
          ],
          "name": "stdout"
        }
      ]
    },
    {
      "cell_type": "markdown",
      "metadata": {
        "id": "soD5e6aq-sNE",
        "colab_type": "text"
      },
      "source": [
        "11.\tCompute product of a list of numbers [45 ,3,2,89,72,1,10,7]\n",
        "Output: 121111200\t\n"
      ]
    },
    {
      "cell_type": "code",
      "metadata": {
        "id": "sMrDrF0d_KkJ",
        "colab_type": "code",
        "colab": {
          "base_uri": "https://localhost:8080/",
          "height": 34
        },
        "outputId": "53095cef-f27f-456b-e72a-65c0415e1e0b"
      },
      "source": [
        "l=[45,3,2,89,72,1,10,7]\n",
        "n=1\n",
        "for i in range(len(l)):\n",
        "  n=n*l[i]\n",
        "print(n) \n"
      ],
      "execution_count": null,
      "outputs": [
        {
          "output_type": "stream",
          "text": [
            "121111200\n"
          ],
          "name": "stdout"
        }
      ]
    },
    {
      "cell_type": "markdown",
      "metadata": {
        "id": "PNxctIkP_mYk",
        "colab_type": "text"
      },
      "source": [
        "12.\tCompute given Num_list =  [5, 6,8 ,34,89,1] to get desired output\n",
        "Output: Out_list=[11,14,42,123,90]\n"
      ]
    },
    {
      "cell_type": "code",
      "metadata": {
        "id": "0Js1et1eAOLt",
        "colab_type": "code",
        "colab": {
          "base_uri": "https://localhost:8080/",
          "height": 34
        },
        "outputId": "3645c6ea-1a81-476e-920d-be663a649e02"
      },
      "source": [
        "l=[5,6,8,34,89,1]\n",
        "z=[]\n",
        "for i in range(len(l)-1):\n",
        "  ol=l[i]+l[i+1]\n",
        "  z.append(ol)\n",
        "print(\"list\",z)  \n"
      ],
      "execution_count": null,
      "outputs": [
        {
          "output_type": "stream",
          "text": [
            "list [11, 14, 42, 123, 90]\n"
          ],
          "name": "stdout"
        }
      ]
    },
    {
      "cell_type": "markdown",
      "metadata": {
        "id": "kcE1pokr5oGu",
        "colab_type": "text"
      },
      "source": [
        "13,Compute given Num_tuple =  (5, 6,8 ,3,9,1) to get desired output\n",
        "Output: Out_list = [5, 30, 240, 720, 6480, 6480]\n"
      ]
    },
    {
      "cell_type": "code",
      "metadata": {
        "id": "M5AtV8FbBFqX",
        "colab_type": "code",
        "colab": {
          "base_uri": "https://localhost:8080/",
          "height": 34
        },
        "outputId": "8ba72c4a-facc-4cae-bd33-d957c127d45c"
      },
      "source": [
        "l=(5,6,8,3,9,1)\n",
        "Out_list=[]\n",
        "Out_list.append(l[0])\n",
        "for i in range(len(l)-1):\n",
        "  m=Out_list[i]*l[i+1]\n",
        "  Out_list.append(m)\n",
        "print(\"out_list\",Out_list)  \n"
      ],
      "execution_count": null,
      "outputs": [
        {
          "output_type": "stream",
          "text": [
            "out_list [5, 30, 240, 720, 6480, 6480]\n"
          ],
          "name": "stdout"
        }
      ]
    },
    {
      "cell_type": "markdown",
      "metadata": {
        "id": "kd8xhhKeCD1q",
        "colab_type": "text"
      },
      "source": [
        "14.Write a Python code that takes a number and returns a list of its digits. So for 586392 it should return [5,8,6,3,9,2]"
      ]
    },
    {
      "cell_type": "code",
      "metadata": {
        "id": "2DHka7IPFk2e",
        "colab_type": "code",
        "colab": {
          "base_uri": "https://localhost:8080/",
          "height": 51
        },
        "outputId": "b94f52ce-9f1c-4104-b4aa-1b03744a8415"
      },
      "source": [
        "x=input(\"enter number\")\n",
        "l=[]\n",
        "for i in range(len(x)):\n",
        "  l.append(x[i])\n",
        "print(l)"
      ],
      "execution_count": null,
      "outputs": [
        {
          "output_type": "stream",
          "text": [
            "enter number586392\n",
            "['5', '8', '6', '3', '9', '2']\n"
          ],
          "name": "stdout"
        }
      ]
    },
    {
      "cell_type": "markdown",
      "metadata": {
        "id": "WyLKE-TC2CSh",
        "colab_type": "text"
      },
      "source": [
        "Write a program that finds the longest palindromic substring of a given string"
      ]
    },
    {
      "cell_type": "code",
      "metadata": {
        "id": "OYUY9OUlHOlw",
        "colab_type": "code",
        "colab": {
          "base_uri": "https://localhost:8080/",
          "height": 34
        },
        "outputId": "08629d32-92d8-40c7-ef6b-a2faf9e9891e"
      },
      "source": [
        "class Solution(object):\n",
        "   def longestPalindrome(self, s):\n",
        "      dp = [[False for i in range(len(s))] for i in range(len(s))]\n",
        "      for i in range(len(s)):\n",
        "         dp[i][i] = True\n",
        "      max_length = 1\n",
        "      start = 0\n",
        "      for l in range(2,len(s)+1):\n",
        "         for i in range(len(s)-l+1):\n",
        "            end = i+l\n",
        "            if l==2:\n",
        "               if s[i] == s[end-1]:\n",
        "                  dp[i][end-1]=True\n",
        "                  max_length = l\n",
        "                  start = i\n",
        "            else:\n",
        "               if s[i] == s[end-1] and dp[i+1][end-2]:\n",
        "                  dp[i][end-1]=True\n",
        "                  max_length = l\n",
        "                  start = i\n",
        "      return s[start:start+max_length]\n",
        "ob1 = Solution()\n",
        "print(ob1.longestPalindrome(\"GOOGLE\"))"
      ],
      "execution_count": null,
      "outputs": [
        {
          "output_type": "stream",
          "text": [
            "GOOG\n"
          ],
          "name": "stdout"
        }
      ]
    },
    {
      "cell_type": "markdown",
      "metadata": {
        "id": "RLjGTbjGHatk",
        "colab_type": "text"
      },
      "source": [
        "16.Substring Check (Bug Funny)\n",
        "Given two binary strings, A (of length 10) and B (of length 5), output 1 if B is a substring of A and 0 otherwise.\n",
        "First two lines of input:\n",
        "\n",
        "1010110010          10110\n",
        "1110111011           10011\n",
        "First two lines of output:\n",
        "1\n",
        "0\n"
      ]
    },
    {
      "cell_type": "code",
      "metadata": {
        "id": "Xl2vgWDbJL_w",
        "colab_type": "code",
        "colab": {
          "base_uri": "https://localhost:8080/",
          "height": 68
        },
        "outputId": "b79de8a1-24e4-4475-fdf8-794ed4d49ec6"
      },
      "source": [
        "x=input(\"enter 1 string\")\n",
        "y=input(\"enter 2 string\")\n",
        "if y in x:\n",
        "  print(\"1\")\n",
        "else:\n",
        "  print(\"0\")  "
      ],
      "execution_count": null,
      "outputs": [
        {
          "output_type": "stream",
          "text": [
            "enter 1 string1010110010\n",
            "enter 2 string10110\n",
            "1\n"
          ],
          "name": "stdout"
        }
      ]
    },
    {
      "cell_type": "code",
      "metadata": {
        "id": "V-0_jZw1Khir",
        "colab_type": "code",
        "colab": {}
      },
      "source": [
        "def gcd(a,b):\n",
        "\n",
        "    if b==0: \n",
        "\n",
        "        return a \n",
        "\n",
        "    return gcd(b,a%b) \n",
        "\n",
        "def countsteps(a,b,c): \n",
        "\n",
        "    v1=b\n",
        "\n",
        "    v2=0\n",
        "\n",
        "    count=1\n",
        "\n",
        "    while ((v1 is not c) and (v2 is not c)): \n",
        "\n",
        "        temp=min(v1,a-v2) \n",
        "\n",
        "        v2=v2+temp \n",
        "\n",
        "        v1=v1-temp \n",
        "\n",
        "        count=count+1\n",
        "\n",
        "        if ((v2==c)or(v1==c)): \n",
        "\n",
        "            break\n",
        "\n",
        "        if v1==0: \n",
        "\n",
        "            v1=b \n",
        "\n",
        "            count=count+1\n",
        "\n",
        "        if v2==a: \n",
        "\n",
        "            v2=0\n",
        "\n",
        "            count=count+1\n",
        "\n",
        "    return count \n",
        "\n",
        "def ispossible(a,b,c): \n",
        "\n",
        "    if a>b: \n",
        "\n",
        "        temp=a \n",
        "\n",
        "        a=b \n",
        "\n",
        "        b=temp \n",
        "\n",
        "    if c>b: \n",
        "\n",
        "        return -1\n",
        "\n",
        "    if (c%(gcd(b,a)) is not 0): \n",
        "\n",
        "        return -1\n",
        "\n",
        "    return(min(countsteps(b,a,c),countsteps(a,b,c)))\n",
        "\n",
        "t=int(input(\"Enter no of testcases : \"))\n",
        "\n",
        "for i in range(t):\n",
        "\n",
        "  a=int(input(\"Enter capacity of vessel a : \"))\n",
        "\n",
        "  b=int(input(\"Enter capacity of vessel b : \"))\n",
        "\n",
        "  c=int(input(\"Enter capacity to be obtained :\"))\n",
        "\n",
        "  print(\"Minimum number of steps required is : \",ispossible(a,b,c))\n",
        "      \n",
        "   \n",
        "\n"
      ],
      "execution_count": null,
      "outputs": []
    }
  ]
}